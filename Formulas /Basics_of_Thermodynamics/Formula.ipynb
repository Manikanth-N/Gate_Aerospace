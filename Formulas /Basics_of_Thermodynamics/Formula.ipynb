{
  "nbformat": 4,
  "nbformat_minor": 0,
  "metadata": {
    "colab": {
      "provenance": [],
      "authorship_tag": "ABX9TyPYAYzkUEU5sECyNFg37Wg8",
      "include_colab_link": true
    },
    "kernelspec": {
      "name": "python3",
      "display_name": "Python 3"
    },
    "language_info": {
      "name": "python"
    }
  },
  "cells": [
    {
      "cell_type": "markdown",
      "metadata": {
        "id": "view-in-github",
        "colab_type": "text"
      },
      "source": [
        "<a href=\"https://colab.research.google.com/github/Manikanth-N/Gate_Aerospace/blob/main/Formulas%20/Basics_of_Thermodynamics/Formula.ipynb\" target=\"_parent\"><img src=\"https://colab.research.google.com/assets/colab-badge.svg\" alt=\"Open In Colab\"/></a>"
      ]
    },
    {
      "cell_type": "markdown",
      "source": [
        "\n",
        "\n",
        "# Formulas Related to Basics of Thermodynamics\n",
        "\n",
        "## 1. Ideal Gas Law\n",
        "$$PV = nRT$$\n",
        "\n",
        "## 2. Boyle's Law\n",
        "$$P_1V_1 = P_2V_2$$\n",
        "\n",
        "## 3. Charles's Law\n",
        "$$\\frac{V_1}{T_1} = \\frac{V_2}{T_2}$$\n",
        "\n",
        "## 4. Gay-Lussac's Law\n",
        "$$\\frac{P_1}{T_1} = \\frac{P_2}{T_2}$$\n",
        "\n",
        "## 5. Avogadro's Law\n",
        "$$V_1/n_1 = V_2/n_2$$\n",
        "\n",
        "## 6. Internal Energy\n",
        "$$U = \\frac{3}{2} nRT$$\n",
        "\n",
        "## 7. Work Done by an Ideal Gas\n",
        "$$W = P\\Delta V$$\n",
        "\n",
        "## 8. Heat Capacity at Constant Volume\n",
        "$$C_V = \\frac{3}{2} R$$\n",
        "\n",
        "## 9. Heat Capacity at Constant Pressure\n",
        "$$C_P = \\frac{5}{2} R$$\n",
        "\n",
        "## 10. Enthalpy\n",
        "$$H = U + PV$$"
      ],
      "metadata": {
        "id": "ob0Xpgl1Jl30"
      }
    }
  ]
}