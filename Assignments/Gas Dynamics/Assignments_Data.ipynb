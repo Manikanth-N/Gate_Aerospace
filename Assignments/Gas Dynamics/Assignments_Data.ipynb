{
  "nbformat": 4,
  "nbformat_minor": 0,
  "metadata": {
    "colab": {
      "provenance": [],
      "authorship_tag": "ABX9TyMrsmmaWoNTCYgGghLxes2C",
      "include_colab_link": true
    },
    "kernelspec": {
      "name": "python3",
      "display_name": "Python 3"
    },
    "language_info": {
      "name": "python"
    }
  },
  "cells": [
    {
      "cell_type": "markdown",
      "metadata": {
        "id": "view-in-github",
        "colab_type": "text"
      },
      "source": [
        "<a href=\"https://colab.research.google.com/github/Manikanth-N/Gate_Aerospace/blob/main/Assignments/Gas%20Dynamics/Assignments_Data.ipynb\" target=\"_parent\"><img src=\"https://colab.research.google.com/assets/colab-badge.svg\" alt=\"Open In Colab\"/></a>"
      ]
    },
    {
      "cell_type": "code",
      "execution_count": null,
      "metadata": {
        "id": "2P7LTz-8oKVo"
      },
      "outputs": [],
      "source": [
        "from IPython.display import display, Markdown\n",
        "\n",
        "# Assignments and Marks\n",
        "\n",
        "# Assignments\n",
        "\n",
        "| Assignment     |   Date       |  In-Correct |Solved | Link |\n",
        "|------------    |---------     |-------      |       | ----              |\n",
        "| Assignment 1   | 26-March     |      3      |       |\n",
        "| Assignment 2   | 30-March     |\n"
      ]
    },
    {
      "cell_type": "markdown",
      "source": [
        "# Assignments and Marks\n",
        "\n",
        "# Assignments\n",
        "\n",
        "| Assignment     |   Date       |  In-Correct |Solved | Link |\n",
        "|------------    |---------     |-------      |  \\     | ----              |\n",
        "| Assignment 1   | 26-March     |      3      |       |\n",
        "| Assignment 2   | 30-March     |\n",
        "\n"
      ],
      "metadata": {
        "id": "J72LPHWsoOaY"
      }
    },
    {
      "cell_type": "code",
      "source": [
        "from IPython.display import display, Markdown\n",
        "\n",
        "markdown_text = \"\"\"\n",
        "| Assignment   | Date       | Status   |  Link |\n",
        "|------------  |------      |--------  |------ |\n",
        "| Assignment 1 | 2024-03-26 | Solved   | [Assignment 1](https://github.com/Manikanth-N/Gate_Aerospace/blob/main/Assignments/Gas%20Dynamics/Assignment-1%20(after%20lecture-1%262).pdf) |\n",
        "| Assignment 2 | 2024-03-30 | Unsolved | [Assignment 2 ](https://github.com/Manikanth-N/Gate_Aerospace/blob/main/Assignments/Gas%20Dynamics/Assignment-2%20(solved).pdf)|\n",
        "| Assignment 3 | 2024-03-29 | Solved   | [Assignment 3](https://github.com/Manikanth-N/Gate_Aerospace/blob/main/Assignments/Gas%20Dynamics/Assignment-3%20(Reference%20book).pdf) |\n",
        "| Assignment 4 | 2024-03-   | Unsolved | [Assignment 4](assignments/assignment4.ipynb) |\n",
        "\"\"\"\n",
        "display(Markdown(markdown_text))\n"
      ],
      "metadata": {
        "colab": {
          "base_uri": "https://localhost:8080/",
          "height": 175
        },
        "id": "R5tOEU1XogUT",
        "outputId": "c9ae0286-ed6f-4a2c-fabf-85a358ca50cd"
      },
      "execution_count": 14,
      "outputs": [
        {
          "output_type": "display_data",
          "data": {
            "text/plain": [
              "<IPython.core.display.Markdown object>"
            ],
            "text/markdown": "\n| Assignment   | Date       | Status   |  Link |\n|------------  |------      |--------  |------ |\n| Assignment 1 | 2024-03-26 | Solved   | [Assignment 1](https://github.com/Manikanth-N/Gate_Aerospace/blob/main/Assignments/Gas%20Dynamics/Assignment-1%20(after%20lecture-1%262).pdf) |\n| Assignment 2 | 2024-03-30 | Unsolved | [Assignment 2 ](https://github.com/Manikanth-N/Gate_Aerospace/blob/main/Assignments/Gas%20Dynamics/Assignment-2%20(solved).pdf)|\n| Assignment 3 | 2024-03-29 | Solved   | [Assignment 3](https://github.com/Manikanth-N/Gate_Aerospace/blob/main/Assignments/Gas%20Dynamics/Assignment-3%20(Reference%20book).pdf) |\n| Assignment 4 | 2024-03-   | Unsolved | [Assignment 4](assignments/assignment4.ipynb) |\n"
          },
          "metadata": {}
        }
      ]
    },
    {
      "cell_type": "code",
      "source": [],
      "metadata": {
        "id": "46T5HbMJqGrp"
      },
      "execution_count": null,
      "outputs": []
    }
  ]
}